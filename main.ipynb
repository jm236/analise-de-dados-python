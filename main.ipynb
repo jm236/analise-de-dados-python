{
 "cells": [
  {
   "cell_type": "code",
   "execution_count": 1,
   "metadata": {},
   "outputs": [],
   "source": [
    "# 1 - Importar e visualizar a base de dados para identificar as informações\n",
    "# 2 - Corrigir as cagadas\n",
    "# 3 - Analise inicial dos cancelamentos\n",
    "# 4 - Analise das causas e como elas impactam os cancelamentos"
   ]
  },
  {
   "cell_type": "code",
   "execution_count": 2,
   "metadata": {},
   "outputs": [],
   "source": [
    "# Passo 1\n",
    "import pandas as pd \n",
    "tabela = pd.read_csv(\"cancelamentos.csv\") # leitura\n",
    "#display(tabela) # impressão da tabela"
   ]
  },
  {
   "cell_type": "code",
   "execution_count": null,
   "metadata": {},
   "outputs": [],
   "source": [
    "# Passo 2\n",
    "tabela = tabela.drop(columns=\"CustomerID\")\n",
    "tabela = tabela.dropna()\n",
    "print(tabela.info()) # mostrando quantas colunas vazias tem a cada linha"
   ]
  },
  {
   "cell_type": "code",
   "execution_count": null,
   "metadata": {},
   "outputs": [],
   "source": [
    "# Passo 3\n",
    "display(tabela[\"cancelou\"].value_counts()) # mostra quantos clientes cancelaram e quantos nao cancelaram\n",
    "display(tabela[\"cancelou\"].value_counts(normalize=True).map(\"{:.1%}\".format)) # mostrar as qtdes percentualmente\n",
    "\n",
    "import plotly.express as px # biblioteca que cria gráficos das colunas da tabela\n",
    "\n",
    "for coluna in tabela.columns:\n",
    "    print(f'Grafico da coluna {coluna}:')\n",
    "    grafico = px.histogram(tabela, x=coluna, color=\"cancelou\") # criando o grafico\n",
    "    grafico.show() # exibindo o grafico"
   ]
  },
  {
   "cell_type": "code",
   "execution_count": null,
   "metadata": {},
   "outputs": [],
   "source": [
    "# Análise das colunas\n",
    "# ligacoes_callcenter: todos os clientes com mais de 5 ligações cancelaram o plano\n",
    "tabela = tabela[tabela[\"ligacoes_callcenter\"]<=5]\n",
    "display(tabela[\"cancelou\"].value_counts())\n",
    "display(tabela[\"cancelou\"].value_counts(normalize=True).map(\"{:.1%}\".format))"
   ]
  },
  {
   "cell_type": "code",
   "execution_count": 9,
   "metadata": {},
   "outputs": [
    {
     "data": {
      "text/plain": [
       "cancelou\n",
       "0.0    363308\n",
       "1.0    163088\n",
       "Name: count, dtype: int64"
      ]
     },
     "metadata": {},
     "output_type": "display_data"
    },
    {
     "data": {
      "text/plain": [
       "cancelou\n",
       "0.0    69.0%\n",
       "1.0    31.0%\n",
       "Name: proportion, dtype: object"
      ]
     },
     "metadata": {},
     "output_type": "display_data"
    }
   ],
   "source": [
    "# reduzimos a taxa de cancelamento para 40%, continuando a analise...\n",
    "# dias atraso acima de 20 dias, 100% cancela\n",
    "tabela = tabela[tabela[\"dias_atraso\"] < 20]\n",
    "display(tabela[\"cancelou\"].value_counts())\n",
    "display(tabela[\"cancelou\"].value_counts(normalize=True).map(\"{:.1%}\".format))\n"
   ]
  },
  {
   "cell_type": "code",
   "execution_count": 10,
   "metadata": {},
   "outputs": [
    {
     "data": {
      "text/plain": [
       "cancelou\n",
       "0.0    363308\n",
       "1.0    101597\n",
       "Name: count, dtype: int64"
      ]
     },
     "metadata": {},
     "output_type": "display_data"
    },
    {
     "data": {
      "text/plain": [
       "cancelou\n",
       "0.0    78.1%\n",
       "1.0    21.9%\n",
       "Name: proportion, dtype: object"
      ]
     },
     "metadata": {},
     "output_type": "display_data"
    }
   ],
   "source": [
    "# conseguimos reduzir para 40 % agora\n",
    "# todas as assinaturas mensais cancelaram\n",
    "tabela = tabela[tabela[\"duracao_contrato\"] != \"Monthly\"]\n",
    "display(tabela[\"cancelou\"].value_counts())\n",
    "display(tabela[\"cancelou\"].value_counts(normalize=True).map(\"{:.1%}\".format))\n"
   ]
  },
  {
   "cell_type": "code",
   "execution_count": null,
   "metadata": {},
   "outputs": [],
   "source": [
    "# retirando as assinaturas mensais, a taxa foi para 20%\n",
    "\"\"\"\n",
    "Em suma, foi possivel identificar 3 fortes causas para os cancelamentos:\n",
    "- Problemas envolvendo a assinatura mensal;\n",
    "- Atrasos de mais de 20 dias;\n",
    "- Alto número de ligações;\n",
    "\"\"\""
   ]
  }
 ],
 "metadata": {
  "kernelspec": {
   "display_name": "Python 3",
   "language": "python",
   "name": "python3"
  },
  "language_info": {
   "codemirror_mode": {
    "name": "ipython",
    "version": 3
   },
   "file_extension": ".py",
   "mimetype": "text/x-python",
   "name": "python",
   "nbconvert_exporter": "python",
   "pygments_lexer": "ipython3",
   "version": "3.11.4"
  }
 },
 "nbformat": 4,
 "nbformat_minor": 2
}
